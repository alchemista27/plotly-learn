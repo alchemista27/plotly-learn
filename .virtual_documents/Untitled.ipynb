# Import library
import pandas as pd
import plotly.graph_objects as go


monthly_sales = pd.read_csv("data/monthly_sales.csv")


monthly_sales.head()


sales_pivot = pd.pivot_table(data = monthly_sales, index="Month", values = "Sales Volume", aggfunc = "sum")


sales_pivot


x_axis = list(sales_pivot.index)
y_axis = list(sales_pivot['Sales Volume'])

graph_config = {'data':[{'type':'bar',
                        'x':x_axis,
                        'y':y_axis}],
               'layout':{'title':{'text':'Sales Volume per Month',
                        'x':0.5,
                        'font':{'color':'blue', 'size':24}}}}
fig = go.Figure(graph_config)
fig.show()


import plotly.express as px


fig = px.bar(data_frame=monthly_sales, x = "Month", y = "Sales Volume")
fig.show()


penguins = pd.read_csv("data/penguins.csv", index_col="Unnamed: 0")
penguins.head()


fig = px.box(data_frame=penguins,
            y = "Flipper Length (mm)",
            title = "Distribution of Penguin's Flipper Length",
            color = "Species")

fig.show()


# Set up the color map
color_map = {'Adelie': 'rgb(235, 52, 52)' , 'Gentoo': 'rgb(235, 149, 52)', 'Chinstrap': 'rgb(67, 52, 235)'}

# Create a scatterplot
fig = px.scatter(data_frame=penguins, title="Penguin Culmen Statistics",
    x="Culmen Length (mm)",
    y="Culmen Depth (mm)",
    # Set the colors to use your color map
    color="Species",
    color_discrete_map=color_map,
    hover_data = ['Culmen Length (mm)', 'Culmen Depth (mm)', 'Species'],
    hover_name = "Island"
)

# Show your work
fig.show()



