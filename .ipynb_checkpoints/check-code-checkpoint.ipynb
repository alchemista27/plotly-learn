{
 "cells": [
  {
   "cell_type": "code",
   "execution_count": 77,
   "id": "606f1fdb-e549-40f9-adfd-659f460a2e4f",
   "metadata": {},
   "outputs": [],
   "source": [
    "# load the library\n",
    "import plotly.express as px\n",
    "import pandas as pd\n",
    "from dash import Dash, dcc, html\n",
    "\n",
    "# load data\n",
    "ecom_sales = pd.read_csv('data/ecom_data.csv')\n",
    "major_categories = list(ecom_sales['Major Category'].unique())\n",
    "minor_categories = list(ecom_sales['Minor Category'].unique())\n",
    "ecom_country = ecom_sales.groupby('Country')['OrderValue'].agg(['sum', 'count']).reset_index().rename(columns={'sum':'Total Sales', 'count':'Sales Volume'})"
   ]
  },
  {
   "cell_type": "code",
   "execution_count": 78,
   "id": "329e0647-7510-4e15-9ccf-c0f3b34c7b0f",
   "metadata": {},
   "outputs": [
    {
     "name": "stdout",
     "output_type": "stream",
     "text": [
      "<class 'pandas.core.frame.DataFrame'>\n",
      "RangeIndex: 700 entries, 0 to 699\n",
      "Data columns (total 11 columns):\n",
      " #   Column          Non-Null Count  Dtype  \n",
      "---  ------          --------------  -----  \n",
      " 0   InvoiceNo       700 non-null    int64  \n",
      " 1   UnitPrice       700 non-null    float64\n",
      " 2   OrderValue      700 non-null    float64\n",
      " 3   Quantity        700 non-null    int64  \n",
      " 4   Country         700 non-null    object \n",
      " 5   InvoiceDate     700 non-null    object \n",
      " 6   InvoiceTime     700 non-null    object \n",
      " 7   Year-Month      700 non-null    object \n",
      " 8   Major Category  700 non-null    object \n",
      " 9   Minor Category  700 non-null    object \n",
      " 10  Description     700 non-null    object \n",
      "dtypes: float64(2), int64(2), object(7)\n",
      "memory usage: 60.3+ KB\n"
     ]
    }
   ],
   "source": [
    "ecom_sales.info()"
   ]
  },
  {
   "cell_type": "code",
   "execution_count": null,
   "id": "4ca69c0c-cebd-4f46-a7c1-66fa0e31b7b8",
   "metadata": {},
   "outputs": [],
   "source": []
  }
 ],
 "metadata": {
  "kernelspec": {
   "display_name": "Python 3 (ipykernel)",
   "language": "python",
   "name": "python3"
  },
  "language_info": {
   "codemirror_mode": {
    "name": "ipython",
    "version": 3
   },
   "file_extension": ".py",
   "mimetype": "text/x-python",
   "name": "python",
   "nbconvert_exporter": "python",
   "pygments_lexer": "ipython3",
   "version": "3.12.4"
  }
 },
 "nbformat": 4,
 "nbformat_minor": 5
}
