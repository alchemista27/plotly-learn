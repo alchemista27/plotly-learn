{
 "cells": [
  {
   "cell_type": "markdown",
   "id": "a6c05a65-c511-4453-a739-e2bad703b616",
   "metadata": {},
   "source": [
    "## Learn to build dashboard using dash ##\n",
    "* Library used --> plotly, dash, pandas\n",
    "* data used --> e-commerce sales data"
   ]
  },
  {
   "cell_type": "code",
   "execution_count": 27,
   "id": "8cd93427-dca5-4c33-9567-0e65e3762662",
   "metadata": {},
   "outputs": [
    {
     "name": "stdout",
     "output_type": "stream",
     "text": [
      "<class 'pandas.core.frame.DataFrame'>\n",
      "RangeIndex: 700 entries, 0 to 699\n",
      "Data columns (total 11 columns):\n",
      " #   Column          Non-Null Count  Dtype  \n",
      "---  ------          --------------  -----  \n",
      " 0   InvoiceNo       700 non-null    int64  \n",
      " 1   UnitPrice       700 non-null    float64\n",
      " 2   OrderValue      700 non-null    float64\n",
      " 3   Quantity        700 non-null    int64  \n",
      " 4   Country         700 non-null    object \n",
      " 5   InvoiceDate     700 non-null    object \n",
      " 6   InvoiceTime     700 non-null    object \n",
      " 7   Year-Month      700 non-null    object \n",
      " 8   Major Category  700 non-null    object \n",
      " 9   Minor Category  700 non-null    object \n",
      " 10  Description     700 non-null    object \n",
      "dtypes: float64(2), int64(2), object(7)\n",
      "memory usage: 60.3+ KB\n",
      "<class 'pandas.core.frame.DataFrame'>\n",
      "RangeIndex: 500 entries, 0 to 499\n",
      "Data columns (total 6 columns):\n",
      " #   Column       Non-Null Count  Dtype  \n",
      "---  ------       --------------  -----  \n",
      " 0   InvoiceNo    500 non-null    int64  \n",
      " 1   Description  500 non-null    object \n",
      " 2   OrderValue   500 non-null    float64\n",
      " 3   Quantity     500 non-null    int64  \n",
      " 4   CustomerID   399 non-null    float64\n",
      " 5   Country      500 non-null    object \n",
      "dtypes: float64(2), int64(2), object(2)\n",
      "memory usage: 23.6+ KB\n"
     ]
    }
   ],
   "source": [
    "# import libraries\n",
    "import pandas as pd\n",
    "from plotly import express as px\n",
    "\n",
    "\n",
    "# load data\n",
    "ecom_sales = pd.read_csv('data/ecom_sales.csv')\n",
    "ecom_data = pd.read_csv('data/ecom_data.csv')\n",
    "ecom_data.info()\n",
    "ecom_sales.info()"
   ]
  },
  {
   "cell_type": "code",
   "execution_count": 33,
   "id": "70f5fbda-8225-4777-9a82-16514f99a6b6",
   "metadata": {},
   "outputs": [
    {
     "data": {
      "text/html": [
       "<div>\n",
       "<style scoped>\n",
       "    .dataframe tbody tr th:only-of-type {\n",
       "        vertical-align: middle;\n",
       "    }\n",
       "\n",
       "    .dataframe tbody tr th {\n",
       "        vertical-align: top;\n",
       "    }\n",
       "\n",
       "    .dataframe thead th {\n",
       "        text-align: right;\n",
       "    }\n",
       "</style>\n",
       "<table border=\"1\" class=\"dataframe\">\n",
       "  <thead>\n",
       "    <tr style=\"text-align: right;\">\n",
       "      <th></th>\n",
       "      <th>InvoiceNo</th>\n",
       "      <th>UnitPrice</th>\n",
       "      <th>Quantity_data</th>\n",
       "      <th>Year-Month</th>\n",
       "      <th>Major Category</th>\n",
       "      <th>Minor Category</th>\n",
       "      <th>Country_data</th>\n",
       "      <th>Total</th>\n",
       "    </tr>\n",
       "  </thead>\n",
       "  <tbody>\n",
       "    <tr>\n",
       "      <th>0</th>\n",
       "      <td>549185</td>\n",
       "      <td>0.85</td>\n",
       "      <td>12</td>\n",
       "      <td>2011-04</td>\n",
       "      <td>Clothes</td>\n",
       "      <td>Tops</td>\n",
       "      <td>United Kingdom</td>\n",
       "      <td>10.20</td>\n",
       "    </tr>\n",
       "    <tr>\n",
       "      <th>1</th>\n",
       "      <td>576381</td>\n",
       "      <td>2.95</td>\n",
       "      <td>12</td>\n",
       "      <td>2011-11</td>\n",
       "      <td>Clothes</td>\n",
       "      <td>Shoes</td>\n",
       "      <td>United Kingdom</td>\n",
       "      <td>35.40</td>\n",
       "    </tr>\n",
       "    <tr>\n",
       "      <th>2</th>\n",
       "      <td>551192</td>\n",
       "      <td>1.25</td>\n",
       "      <td>16</td>\n",
       "      <td>2011-04</td>\n",
       "      <td>Kitchen</td>\n",
       "      <td>Cutlery</td>\n",
       "      <td>United Kingdom</td>\n",
       "      <td>20.00</td>\n",
       "    </tr>\n",
       "    <tr>\n",
       "      <th>3</th>\n",
       "      <td>573553</td>\n",
       "      <td>7.46</td>\n",
       "      <td>1</td>\n",
       "      <td>2011-10</td>\n",
       "      <td>Garden</td>\n",
       "      <td>Turf</td>\n",
       "      <td>United Kingdom</td>\n",
       "      <td>7.46</td>\n",
       "    </tr>\n",
       "    <tr>\n",
       "      <th>4</th>\n",
       "      <td>539436</td>\n",
       "      <td>2.51</td>\n",
       "      <td>1</td>\n",
       "      <td>2010-12</td>\n",
       "      <td>Garden</td>\n",
       "      <td>Hoses</td>\n",
       "      <td>United Kingdom</td>\n",
       "      <td>2.51</td>\n",
       "    </tr>\n",
       "  </tbody>\n",
       "</table>\n",
       "</div>"
      ],
      "text/plain": [
       "   InvoiceNo  UnitPrice  Quantity_data Year-Month Major Category  \\\n",
       "0     549185       0.85             12    2011-04        Clothes   \n",
       "1     576381       2.95             12    2011-11        Clothes   \n",
       "2     551192       1.25             16    2011-04        Kitchen   \n",
       "3     573553       7.46              1    2011-10         Garden   \n",
       "4     539436       2.51              1    2010-12         Garden   \n",
       "\n",
       "  Minor Category    Country_data  Total  \n",
       "0           Tops  United Kingdom  10.20  \n",
       "1          Shoes  United Kingdom  35.40  \n",
       "2        Cutlery  United Kingdom  20.00  \n",
       "3           Turf  United Kingdom   7.46  \n",
       "4          Hoses  United Kingdom   2.51  "
      ]
     },
     "execution_count": 33,
     "metadata": {},
     "output_type": "execute_result"
    }
   ],
   "source": [
    "sales = ecom_data.join(ecom_sales, on ='InvoiceNo', lsuffix='_data', rsuffix='_sales')\n",
    "sales = sales[['InvoiceNo', 'UnitPrice', 'Quantity_data', 'Year-Month',\n",
    "               'Major Category', 'Minor Category', 'Country_data']]\n",
    "sales['Total'] = sales['UnitPrice'] * sales['Quantity_data']\n",
    "sales.head()"
   ]
  },
  {
   "cell_type": "code",
   "execution_count": 34,
   "id": "522088f9-ed59-4738-9b0d-efa9155cea75",
   "metadata": {},
   "outputs": [
    {
     "name": "stdout",
     "output_type": "stream",
     "text": [
      "<class 'pandas.core.frame.DataFrame'>\n",
      "RangeIndex: 700 entries, 0 to 699\n",
      "Data columns (total 8 columns):\n",
      " #   Column          Non-Null Count  Dtype  \n",
      "---  ------          --------------  -----  \n",
      " 0   InvoiceNo       700 non-null    int64  \n",
      " 1   UnitPrice       700 non-null    float64\n",
      " 2   Quantity_data   700 non-null    int64  \n",
      " 3   Year-Month      700 non-null    object \n",
      " 4   Major Category  700 non-null    object \n",
      " 5   Minor Category  700 non-null    object \n",
      " 6   Country_data    700 non-null    object \n",
      " 7   Total           700 non-null    float64\n",
      "dtypes: float64(2), int64(2), object(4)\n",
      "memory usage: 43.9+ KB\n"
     ]
    }
   ],
   "source": [
    "sales.info()"
   ]
  },
  {
   "cell_type": "code",
   "execution_count": null,
   "id": "998c26c8-265a-4122-8e0e-c7d7139d8be5",
   "metadata": {},
   "outputs": [],
   "source": []
  }
 ],
 "metadata": {
  "kernelspec": {
   "display_name": "Python 3 (ipykernel)",
   "language": "python",
   "name": "python3"
  },
  "language_info": {
   "codemirror_mode": {
    "name": "ipython",
    "version": 3
   },
   "file_extension": ".py",
   "mimetype": "text/x-python",
   "name": "python",
   "nbconvert_exporter": "python",
   "pygments_lexer": "ipython3",
   "version": "3.12.4"
  }
 },
 "nbformat": 4,
 "nbformat_minor": 5
}
